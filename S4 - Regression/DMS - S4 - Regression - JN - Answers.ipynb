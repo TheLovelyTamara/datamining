{
 "cells": [
  {
   "cell_type": "markdown",
   "metadata": {},
   "source": [
    "# Data Mining and Statistics\n",
    "## Session 4 - Regression Analysis - ANSWERS\n",
    "*Peter Stikker - Haarlem, the Netherlands*"
   ]
  },
  {
   "cell_type": "markdown",
   "metadata": {},
   "source": [
    "----"
   ]
  },
  {
   "cell_type": "code",
   "execution_count": 1,
   "metadata": {},
   "outputs": [
    {
     "ename": "SyntaxError",
     "evalue": "invalid syntax (1455580068.py, line 38)",
     "output_type": "error",
     "traceback": [
      "\u001b[1;36m  Cell \u001b[1;32mIn[1], line 38\u001b[1;36m\u001b[0m\n\u001b[1;33m    from scikit-learn.linear_model import LinearRegression\u001b[0m\n\u001b[1;37m               ^\u001b[0m\n\u001b[1;31mSyntaxError\u001b[0m\u001b[1;31m:\u001b[0m invalid syntax\n"
     ]
    }
   ],
   "source": [
    "try:\n",
    "    import pandas as pd\n",
    "    print('pandas already installed, only imported')\n",
    "except:\n",
    "    !pip install pandas\n",
    "    import pandas as pd\n",
    "    print('pandas was not installed, installed and imported')    \n",
    "\n",
    "# numpy as np\n",
    "try:\n",
    "    import numpy as np\n",
    "    print('NumPy already installed, only imported')\n",
    "except:\n",
    "    !pip install numpy\n",
    "    import numpy as np\n",
    "    print('NumPy was not installed, installed and imported')\n",
    "    \n",
    "    \n",
    "# pyplot as plt\n",
    "try:\n",
    "    import matplotlib.pyplot as plt\n",
    "    print('PyPlot already installed, only imported')\n",
    "except:\n",
    "    !pip install matplotlib\n",
    "    import matplotlib.pyplot as plt\n",
    "    print('PyPlot was not installed, installed and imported')\n",
    "\n",
    "try:\n",
    "    import statsmodels.api as sm\n",
    "    print('statsmodels already installed, only imported')\n",
    "except:\n",
    "    !pip install statsmodels\n",
    "    import statsmodels.api as sm\n",
    "    print('statsmodels was not installed, installed and imported')    \n",
    "    \n",
    "# sklearn\n",
    "try:\n",
    "    from sklearn.linear_model import LinearRegression\n",
    "    print('sklearn already installed, only imported')\n",
    "except:\n",
    "    !pip install scikit-learn\n",
    "    from sklearn.linear_model import LinearRegression\n",
    "    print('sklearn was not installed, installed and imported')\n",
    "\n",
    "from sklearn import metrics\n",
    "\n",
    "try:\n",
    "    import seaborn as sns\n",
    "    print('statsmodels already installed, only imported')\n",
    "except:\n",
    "    !pip install seaborn\n",
    "    import seaborn as sns\n",
    "    print('statsmodels was not installed, installed and imported')"
   ]
  },
  {
   "cell_type": "code",
   "execution_count": 4,
   "metadata": {},
   "outputs": [],
   "source": [
    "soccerDF=pd.read_csv('./Soccer2019C.csv')"
   ]
  },
  {
   "cell_type": "code",
   "execution_count": 5,
   "metadata": {},
   "outputs": [],
   "source": [
    "x = soccerDF[\"Age\"].to_numpy().reshape((-1,1))\n",
    "y = soccerDF[\"Overall\"].to_numpy().reshape((-1,1))"
   ]
  },
  {
   "cell_type": "markdown",
   "metadata": {},
   "source": [
    "**The manual calculation:**"
   ]
  },
  {
   "cell_type": "code",
   "execution_count": 6,
   "metadata": {},
   "outputs": [
    {
     "name": "stdout",
     "output_type": "stream",
     "text": [
      "The coefficient (b1):  0.670753275452498\n",
      "The intercept (b0):  49.39888516650534\n"
     ]
    }
   ],
   "source": [
    "sx2 = x.var()\n",
    "mxy = np.array(x*y).mean()\n",
    "b1=(mxy-x.mean()*y.mean())/sx2\n",
    "print(\"The coefficient (b1): \",b1)\n",
    "\n",
    "b0=y.mean()-b1*x.mean()\n",
    "print(\"The intercept (b0): \",b0)"
   ]
  },
  {
   "cell_type": "markdown",
   "metadata": {},
   "source": [
    "**Using sklearn:**"
   ]
  },
  {
   "cell_type": "code",
   "execution_count": 7,
   "metadata": {},
   "outputs": [
    {
     "ename": "NameError",
     "evalue": "name 'LinearRegression' is not defined",
     "output_type": "error",
     "traceback": [
      "\u001b[1;31m---------------------------------------------------------------------------\u001b[0m",
      "\u001b[1;31mNameError\u001b[0m                                 Traceback (most recent call last)",
      "Cell \u001b[1;32mIn[7], line 4\u001b[0m\n\u001b[0;32m      1\u001b[0m x\u001b[39m=\u001b[39mx\u001b[39m.\u001b[39mreshape((\u001b[39m-\u001b[39m\u001b[39m1\u001b[39m,\u001b[39m1\u001b[39m))\n\u001b[0;32m      2\u001b[0m y\u001b[39m=\u001b[39my\u001b[39m.\u001b[39mreshape((\u001b[39m-\u001b[39m\u001b[39m1\u001b[39m,\u001b[39m1\u001b[39m))\n\u001b[1;32m----> 4\u001b[0m model \u001b[39m=\u001b[39m LinearRegression()\u001b[39m.\u001b[39mfit(x,y)\n\u001b[0;32m      5\u001b[0m b1\u001b[39m=\u001b[39mmodel\u001b[39m.\u001b[39mcoef_[\u001b[39m0\u001b[39m]\n\u001b[0;32m      6\u001b[0m \u001b[39mprint\u001b[39m(\u001b[39m'\u001b[39m\u001b[39mThe slope (b1): \u001b[39m\u001b[39m'\u001b[39m,b1[\u001b[39m0\u001b[39m])\n",
      "\u001b[1;31mNameError\u001b[0m: name 'LinearRegression' is not defined"
     ]
    }
   ],
   "source": [
    "x=x.reshape((-1,1))\n",
    "y=y.reshape((-1,1))\n",
    "\n",
    "model = LinearRegression().fit(x,y)\n",
    "b1=model.coef_[0]\n",
    "print('The slope (b1): ',b1[0])\n",
    "\n",
    "b0=model.intercept_\n",
    "print('The intercept (b0): ',b0[0])\n",
    "\n",
    "yPred = model.predict(x)\n",
    "\n",
    "det=metrics.r2_score(y,yPred)\n",
    "print('Coefficient of determination: ',det)"
   ]
  },
  {
   "cell_type": "markdown",
   "metadata": {},
   "source": [
    "**Using statsmodels:**"
   ]
  },
  {
   "cell_type": "code",
   "execution_count": null,
   "metadata": {},
   "outputs": [],
   "source": [
    "X=soccerDF[\"Age\"]\n",
    "X=sm.add_constant(X)\n",
    "model = sm.OLS(soccerDF[\"Overall\"],X).fit()\n",
    "model.summary()"
   ]
  },
  {
   "cell_type": "markdown",
   "metadata": {},
   "source": [
    "My take on a function for linear regression:"
   ]
  },
  {
   "cell_type": "code",
   "execution_count": null,
   "metadata": {},
   "outputs": [],
   "source": [
    "def linearRegression(xVal, yVal):\n",
    "    model = LinearRegression().fit(xVal,yVal)\n",
    "    yPred = model.predict(xVal)\n",
    "    b1V2=model.coef_[0]\n",
    "    print('The slope (b1): ',b1V2)\n",
    "\n",
    "    b0V2=model.intercept_\n",
    "    print('The intercept (b0): ',b0V2[0])\n",
    "    det2=metrics.r2_score(yVal,yPred)\n",
    "    print('Coefficient of determination: ',det2)"
   ]
  },
  {
   "cell_type": "markdown",
   "metadata": {},
   "source": [
    "Now to find out which variable has the highest correlation. Micha is a big fan of seaborn and liked to visualize this by creating all scatterplots between all possible pairs of variables: "
   ]
  },
  {
   "cell_type": "code",
   "execution_count": null,
   "metadata": {},
   "outputs": [],
   "source": [
    "soccerLim =soccerDF.iloc[:,0:10] # Showing this for all variables will simply take too much time for now, so just to get an example limit the data\n",
    "sns.pairplot(soccerLim) # Show the scatterplots of each possible pair of variables"
   ]
  },
  {
   "cell_type": "markdown",
   "metadata": {},
   "source": [
    "The full version would be a bit impracticle. He also used a heat map. Looks also nice:"
   ]
  },
  {
   "cell_type": "code",
   "execution_count": null,
   "metadata": {},
   "outputs": [],
   "source": [
    "sns.heatmap(soccerDF.corr()) # show a heatmap which columns are corrolated."
   ]
  },
  {
   "cell_type": "markdown",
   "metadata": {},
   "source": [
    "I'm more of a numbers guy myself. We can generate a so-called correlation matrix using our pandas dataframe."
   ]
  },
  {
   "cell_type": "code",
   "execution_count": null,
   "metadata": {},
   "outputs": [],
   "source": [
    "corrMatrix=soccerDF.corr(method='pearson')\n",
    "corrMatrix.head()"
   ]
  },
  {
   "cell_type": "markdown",
   "metadata": {},
   "source": [
    "To determine the one with the best determination coefficient, we simply square the results:"
   ]
  },
  {
   "cell_type": "code",
   "execution_count": null,
   "metadata": {},
   "outputs": [],
   "source": [
    "detMatrix=corrMatrix**2\n",
    "detMatrix.head()"
   ]
  },
  {
   "cell_type": "markdown",
   "metadata": {},
   "source": [
    "Then replace the 1's with a 0 (to avoid getting the diagonal), and determine the maximum:"
   ]
  },
  {
   "cell_type": "code",
   "execution_count": null,
   "metadata": {},
   "outputs": [],
   "source": [
    "detMatrix = detMatrix.replace(1,0)\n",
    "maxRsquare=detMatrix.values.max()\n",
    "maxRsquare"
   ]
  },
  {
   "cell_type": "markdown",
   "metadata": {},
   "source": [
    "Okay, uhm but between which two is this:"
   ]
  },
  {
   "cell_type": "code",
   "execution_count": null,
   "metadata": {},
   "outputs": [],
   "source": [
    "for column in detMatrix:\n",
    "    if detMatrix[column].values.max()==maxRsquare:\n",
    "        print(column)"
   ]
  },
  {
   "cell_type": "markdown",
   "metadata": {},
   "source": [
    "Great, lets check:"
   ]
  },
  {
   "cell_type": "code",
   "execution_count": null,
   "metadata": {},
   "outputs": [],
   "source": [
    "X=soccerDF[\"StandingTackle\"]\n",
    "X=sm.add_constant(X)\n",
    "model = sm.OLS(soccerDF[\"SlidingTackle\"],X).fit()\n",
    "model.summary()"
   ]
  },
  {
   "cell_type": "code",
   "execution_count": null,
   "metadata": {},
   "outputs": [],
   "source": []
  }
 ],
 "metadata": {
  "kernelspec": {
   "display_name": "Python 3",
   "language": "python",
   "name": "python3"
  },
  "language_info": {
   "codemirror_mode": {
    "name": "ipython",
    "version": 3
   },
   "file_extension": ".py",
   "mimetype": "text/x-python",
   "name": "python",
   "nbconvert_exporter": "python",
   "pygments_lexer": "ipython3",
   "version": "3.11.2"
  },
  "vscode": {
   "interpreter": {
    "hash": "5be11d9cbfad033087443e0db34e4c10b0cc227c13eaeebf80611335cc2580fb"
   }
  }
 },
 "nbformat": 4,
 "nbformat_minor": 4
}
