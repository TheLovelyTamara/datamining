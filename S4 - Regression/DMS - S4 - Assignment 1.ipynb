{
 "cells": [
  {
   "attachments": {},
   "cell_type": "markdown",
   "metadata": {},
   "source": [
    "**this is a template notebook. To get a 60 you will need to complete the first three chapters. From there is additional points. In the template you'll see text between <> so \\<example> where you will have to isert your own text. \n",
    "    The template is also just an indication. You can add more cells if needed, and can of course delete this line**\n",
    "\n",
    "# Analyses of Commander gameplay\n",
    "## DMS - Regression Assignment (v1.2)\n",
    "Author: Tamara van der Gragt</span><br>\n",
    "Student number: 534235</span><br>\n",
    "Date: 22-03-2023</span>"
   ]
  },
  {
   "cell_type": "markdown",
   "metadata": {},
   "source": [
    "For this notebook to work you must have installed the following packages (usually via pip install *packageName*:\n",
    "* numpy\n",
    "* pandas\n",
    "* \\<add other packages\\>\n",
    "\n",
    "From these we will need the following libraries:"
   ]
  },
  {
   "cell_type": "code",
   "execution_count": 2,
   "metadata": {},
   "outputs": [],
   "source": [
    "import numpy as np\n",
    "import matplotlib.pyplot as plt\n",
    "import pandas as pd\n",
    "import seaborn as sns"
   ]
  },
  {
   "attachments": {},
   "cell_type": "markdown",
   "metadata": {},
   "source": [
    "# 1. The Data\n",
    "We are going to use the datafile Commanderstats.csv. This contains the outcomes of multiple games of commanders including who one and at what turn, more info and rules for the game can be found at http://mtgcommander.net"
   ]
  },
  {
   "cell_type": "code",
   "execution_count": 26,
   "metadata": {},
   "outputs": [],
   "source": [
    "data = pd.read_csv(\"../Commanderstats.csv\",sep=\"\\t\")"
   ]
  },
  {
   "cell_type": "markdown",
   "metadata": {},
   "source": [
    "Here's a quick look at the data:"
   ]
  },
  {
   "cell_type": "code",
   "execution_count": 27,
   "metadata": {},
   "outputs": [
    {
     "data": {
      "text/html": [
       "<div>\n",
       "<style scoped>\n",
       "    .dataframe tbody tr th:only-of-type {\n",
       "        vertical-align: middle;\n",
       "    }\n",
       "\n",
       "    .dataframe tbody tr th {\n",
       "        vertical-align: top;\n",
       "    }\n",
       "\n",
       "    .dataframe thead th {\n",
       "        text-align: right;\n",
       "    }\n",
       "</style>\n",
       "<table border=\"1\" class=\"dataframe\">\n",
       "  <thead>\n",
       "    <tr style=\"text-align: right;\">\n",
       "      <th></th>\n",
       "      <th>GameId</th>\n",
       "      <th>Sources</th>\n",
       "      <th>Show Name</th>\n",
       "      <th>PlayerID (this should reflect turn order)</th>\n",
       "      <th>Commander</th>\n",
       "      <th>Partner Commander</th>\n",
       "      <th>Link to Deck</th>\n",
       "      <th>AVG CMC of Deck</th>\n",
       "      <th>Total Cost of Deck in paper</th>\n",
       "      <th>Land Count in deck)</th>\n",
       "      <th>Deck Type</th>\n",
       "      <th>Sol Ring / Mana Crypt by Turn 3</th>\n",
       "      <th>1 accelerant or Both?</th>\n",
       "      <th>Mana producing Lands at end of the Game</th>\n",
       "      <th>Cards Remaining in Deck</th>\n",
       "      <th>Eliminated by Which Player</th>\n",
       "      <th>Player Eliminated How</th>\n",
       "      <th>Player Won?</th>\n",
       "      <th>Color Identity of Commander</th>\n",
       "    </tr>\n",
       "  </thead>\n",
       "  <tbody>\n",
       "    <tr>\n",
       "      <th>0</th>\n",
       "      <td>1001</td>\n",
       "      <td>Commander Clash 12/17/15</td>\n",
       "      <td>Commander Clash</td>\n",
       "      <td>1</td>\n",
       "      <td>Sen Triplets</td>\n",
       "      <td>NaN</td>\n",
       "      <td>https://tappedout.net/mtg-decks/cc-121715-sen-...</td>\n",
       "      <td>3.95</td>\n",
       "      <td>268.0</td>\n",
       "      <td>38</td>\n",
       "      <td>Control</td>\n",
       "      <td>No Early ManaC/Sol Ring</td>\n",
       "      <td>0</td>\n",
       "      <td>9.0</td>\n",
       "      <td>72</td>\n",
       "      <td>2.0</td>\n",
       "      <td>Infect</td>\n",
       "      <td>No</td>\n",
       "      <td>WUB</td>\n",
       "    </tr>\n",
       "    <tr>\n",
       "      <th>1</th>\n",
       "      <td>1001</td>\n",
       "      <td>Commander Clash 12/17/15</td>\n",
       "      <td>Commander Clash</td>\n",
       "      <td>2</td>\n",
       "      <td>Edric Spymaster of Trest</td>\n",
       "      <td>NaN</td>\n",
       "      <td>https://tappedout.net/mtg-decks/cc-121715-edri...</td>\n",
       "      <td>2.14</td>\n",
       "      <td>123.0</td>\n",
       "      <td>34</td>\n",
       "      <td>Mid-Range</td>\n",
       "      <td>Early ManaC/Sol Ring</td>\n",
       "      <td>1</td>\n",
       "      <td>12.0</td>\n",
       "      <td>20</td>\n",
       "      <td>0.0</td>\n",
       "      <td>NaN</td>\n",
       "      <td>Yes</td>\n",
       "      <td>UG</td>\n",
       "    </tr>\n",
       "    <tr>\n",
       "      <th>2</th>\n",
       "      <td>1001</td>\n",
       "      <td>Commander Clash 12/17/15</td>\n",
       "      <td>Commander Clash</td>\n",
       "      <td>3</td>\n",
       "      <td>Glissa the Traitor</td>\n",
       "      <td>NaN</td>\n",
       "      <td>https://tappedout.net/mtg-decks/cc-121715-glis...</td>\n",
       "      <td>3.09</td>\n",
       "      <td>161.0</td>\n",
       "      <td>36</td>\n",
       "      <td>Aggro</td>\n",
       "      <td>No Early ManaC/Sol Ring</td>\n",
       "      <td>0</td>\n",
       "      <td>9.0</td>\n",
       "      <td>69</td>\n",
       "      <td>2.0</td>\n",
       "      <td>Combat Damage</td>\n",
       "      <td>No</td>\n",
       "      <td>BG</td>\n",
       "    </tr>\n",
       "    <tr>\n",
       "      <th>3</th>\n",
       "      <td>1001</td>\n",
       "      <td>Commander Clash 12/17/15</td>\n",
       "      <td>Commander Clash</td>\n",
       "      <td>4</td>\n",
       "      <td>Omnath Locus of Rage</td>\n",
       "      <td>NaN</td>\n",
       "      <td>https://tappedout.net/mtg-decks/cc-121715-omna...</td>\n",
       "      <td>3.93</td>\n",
       "      <td>91.0</td>\n",
       "      <td>40</td>\n",
       "      <td>Mid-Range</td>\n",
       "      <td>No Early ManaC/Sol Ring</td>\n",
       "      <td>0</td>\n",
       "      <td>12.0</td>\n",
       "      <td>72</td>\n",
       "      <td>2.0</td>\n",
       "      <td>Infect</td>\n",
       "      <td>No</td>\n",
       "      <td>RG</td>\n",
       "    </tr>\n",
       "    <tr>\n",
       "      <th>4</th>\n",
       "      <td>1002</td>\n",
       "      <td>Commander VS 07/16/14</td>\n",
       "      <td>Commander VS.</td>\n",
       "      <td>2</td>\n",
       "      <td>Marchesa the Black Rose</td>\n",
       "      <td>NaN</td>\n",
       "      <td>https://tappedout.net/mtg-decks/cv-071614-marc...</td>\n",
       "      <td>3.91</td>\n",
       "      <td>777.0</td>\n",
       "      <td>36</td>\n",
       "      <td>Aggro</td>\n",
       "      <td>Early ManaC/Sol Ring</td>\n",
       "      <td>1</td>\n",
       "      <td>12.0</td>\n",
       "      <td>0</td>\n",
       "      <td>0.0</td>\n",
       "      <td>NaN</td>\n",
       "      <td>Yes</td>\n",
       "      <td>UBR</td>\n",
       "    </tr>\n",
       "  </tbody>\n",
       "</table>\n",
       "</div>"
      ],
      "text/plain": [
       "   GameId                   Sources        Show Name  \\\n",
       "0    1001  Commander Clash 12/17/15  Commander Clash   \n",
       "1    1001  Commander Clash 12/17/15  Commander Clash   \n",
       "2    1001  Commander Clash 12/17/15  Commander Clash   \n",
       "3    1001  Commander Clash 12/17/15  Commander Clash   \n",
       "4    1002     Commander VS 07/16/14    Commander VS.   \n",
       "\n",
       "   PlayerID (this should reflect turn order)                 Commander  \\\n",
       "0                                          1              Sen Triplets   \n",
       "1                                          2  Edric Spymaster of Trest   \n",
       "2                                          3        Glissa the Traitor   \n",
       "3                                          4      Omnath Locus of Rage   \n",
       "4                                          2   Marchesa the Black Rose   \n",
       "\n",
       "  Partner Commander                                       Link to Deck  \\\n",
       "0               NaN  https://tappedout.net/mtg-decks/cc-121715-sen-...   \n",
       "1               NaN  https://tappedout.net/mtg-decks/cc-121715-edri...   \n",
       "2               NaN  https://tappedout.net/mtg-decks/cc-121715-glis...   \n",
       "3               NaN  https://tappedout.net/mtg-decks/cc-121715-omna...   \n",
       "4               NaN  https://tappedout.net/mtg-decks/cv-071614-marc...   \n",
       "\n",
       "   AVG CMC of Deck  Total Cost of Deck in paper   Land Count in deck)  \\\n",
       "0             3.95                         268.0                   38   \n",
       "1             2.14                         123.0                   34   \n",
       "2             3.09                         161.0                   36   \n",
       "3             3.93                          91.0                   40   \n",
       "4             3.91                         777.0                   36   \n",
       "\n",
       "   Deck Type Sol Ring / Mana Crypt by Turn 3  1 accelerant or Both?  \\\n",
       "0    Control         No Early ManaC/Sol Ring                      0   \n",
       "1  Mid-Range            Early ManaC/Sol Ring                      1   \n",
       "2      Aggro         No Early ManaC/Sol Ring                      0   \n",
       "3  Mid-Range         No Early ManaC/Sol Ring                      0   \n",
       "4      Aggro            Early ManaC/Sol Ring                      1   \n",
       "\n",
       "   Mana producing Lands at end of the Game  Cards Remaining in Deck  \\\n",
       "0                                      9.0                       72   \n",
       "1                                     12.0                       20   \n",
       "2                                      9.0                       69   \n",
       "3                                     12.0                       72   \n",
       "4                                     12.0                        0   \n",
       "\n",
       "   Eliminated by Which Player Player Eliminated How Player Won?  \\\n",
       "0                         2.0                Infect          No   \n",
       "1                         0.0                   NaN         Yes   \n",
       "2                         2.0         Combat Damage          No   \n",
       "3                         2.0                Infect          No   \n",
       "4                         0.0                   NaN         Yes   \n",
       "\n",
       "  Color Identity of Commander  \n",
       "0                         WUB  \n",
       "1                          UG  \n",
       "2                          BG  \n",
       "3                          RG  \n",
       "4                         UBR  "
      ]
     },
     "execution_count": 27,
     "metadata": {},
     "output_type": "execute_result"
    }
   ],
   "source": [
    "data.head()\n"
   ]
  },
  {
   "cell_type": "code",
   "execution_count": 28,
   "metadata": {},
   "outputs": [
    {
     "name": "stderr",
     "output_type": "stream",
     "text": [
      "C:\\Users\\Tamara\\AppData\\Local\\Temp\\ipykernel_4536\\2871477725.py:1: FutureWarning: The default value of numeric_only in DataFrame.corr is deprecated. In a future version, it will default to False. Select only valid columns or specify the value of numeric_only to silence this warning.\n",
      "  sns.heatmap(data.corr(method=\"kendall\"))\n"
     ]
    },
    {
     "data": {
      "text/plain": [
       "<Axes: >"
      ]
     },
     "execution_count": 28,
     "metadata": {},
     "output_type": "execute_result"
    },
    {
     "data": {
      "image/png": "[encoded data removed]",
      "text/plain": [
       "<Figure size 640x480 with 2 Axes>"
      ]
     },
     "metadata": {},
     "output_type": "display_data"
    }
   ],
   "source": [
    "\n",
    "sns.heatmap(data.corr(method=\"kendall\"))"
   ]
  },
  {
   "attachments": {},
   "cell_type": "markdown",
   "metadata": {},
   "source": [
    "\n",
    "We are going to predict \"Player Won?\" based on \"Average CMC of Deck\" and \"Total cost of Deck in paper\". if any of those values are nan or 0. those will be records will be excluded.\n",
    "\n",
    "Description of the fields:\n",
    "\n",
    "- Player Won? #if the player one the game.\n",
    "- AVG CMC of Deck #all cards have a characteristic called CMC this can varie from 0 to 16 and is depicted on every card if applicable\n",
    "- Total cost of Deck in paper #Being that this is a trading card game some cards are more valueble then others as of such we also look if this has a factor in the result aka is this game pay to win?"
   ]
  },
  {
   "attachments": {},
   "cell_type": "markdown",
   "metadata": {},
   "source": [
    "*note:* You can score a +.5 point if you don't just pick randomly your variables, but use either a pairplot (a plot showing all scatterplots between all possible pairs of variables), a heatmap, and/or a correlation matrix, to pick some that at least have a reasonable correlation."
   ]
  },
  {
   "cell_type": "markdown",
   "metadata": {},
   "source": [
    "# 2. The Bivariate Regression\n",
    "\n",
    "## 2.1. The First Bivariate Regression\n",
    "\n",
    "First we are going to look at the predictions using only one of our two x's. "
   ]
  },
  {
   "cell_type": "markdown",
   "metadata": {},
   "source": [
    "We start with predicting <span style='background:yellow'>\\<your y variable\\></span> using <span style='background:yellow'>\\<one of your x variables\\></span>. Below a visualisation of these two:"
   ]
  },
  {
   "cell_type": "code",
   "execution_count": 32,
   "metadata": {},
   "outputs": [
    {
     "data": {
      "text/plain": [
       "<matplotlib.collections.PathCollection at 0x2847dd82350>"
      ]
     },
     "execution_count": 32,
     "metadata": {},
     "output_type": "execute_result"
    },
    {
     "data": {
      "image/png": "[encoded data removed]",
      "text/plain": [
       "<Figure size 640x480 with 1 Axes>"
      ]
     },
     "metadata": {},
     "output_type": "display_data"
    }
   ],
   "source": [
    "#enter code to show scatterplot\n",
    "tmp = data.loc[data[\"Total Cost of Deck in paper \"] > 1].loc[data[\"Total Cost of Deck in paper \"] < 8000]\n",
    "plt.scatter(x=tmp[\"Total Cost of Deck in paper \"],y=tmp[\"AVG CMC of Deck\"])"
   ]
  },
  {
   "cell_type": "markdown",
   "metadata": {},
   "source": [
    "As can be seen from the scatterplot there seems to be a <span style='background:yellow'>\\<describe if there is a clear or hardly any, or.... relationship between the two\\></span>"
   ]
  },
  {
   "cell_type": "markdown",
   "metadata": {},
   "source": [
    "Now that we have a visual inspection its time to perform a bivariate regression (twice, once for each x variable). \n",
    "\n",
    "We first split the data into training and testing data. We start again with the x of <span style='background:yellow'>\\<name of your first x variable></span>:"
   ]
  },
  {
   "cell_type": "code",
   "execution_count": null,
   "metadata": {},
   "outputs": [],
   "source": [
    "#add code to create training and testing data\n"
   ]
  },
  {
   "cell_type": "markdown",
   "metadata": {},
   "source": [
    "Now setup the linear regression model and fit our training data:"
   ]
  },
  {
   "cell_type": "code",
   "execution_count": null,
   "metadata": {},
   "outputs": [],
   "source": [
    "#add code to create linear regression model\n"
   ]
  },
  {
   "cell_type": "markdown",
   "metadata": {},
   "source": [
    "Lets see how well the model performed with the training data, by visualisation:"
   ]
  },
  {
   "cell_type": "code",
   "execution_count": null,
   "metadata": {},
   "outputs": [],
   "source": [
    "#add code to show scatterplot with the regression line\n"
   ]
  },
  {
   "cell_type": "markdown",
   "metadata": {},
   "source": [
    "<span style='background:yellow'>\\<describe how well the line describes the data></span>\n",
    "\n",
    "Besides from a visual, we can also use some metrics."
   ]
  },
  {
   "cell_type": "code",
   "execution_count": null,
   "metadata": {},
   "outputs": [],
   "source": [
    "#code to show the results of the statsmodels.api summary\n"
   ]
  },
  {
   "cell_type": "markdown",
   "metadata": {},
   "source": [
    "<span style='background:yellow'>\\<explain in your own words what the R-squared means and indicates, and the two numbers in the column of coef></span>\n",
    "\n",
    "We can also check how well our model worked by using the testing data:"
   ]
  },
  {
   "cell_type": "code",
   "execution_count": null,
   "metadata": {},
   "outputs": [],
   "source": [
    "#code to show how well the model performmed\n"
   ]
  },
  {
   "cell_type": "markdown",
   "metadata": {},
   "source": [
    "<span style='background:yellow'>\\<explain in your own words what this number means></span>"
   ]
  },
  {
   "cell_type": "markdown",
   "metadata": {},
   "source": [
    "Now we repeat all these steps, but using the other x-variable: <span style='background:yellow'>/< your other x-variable name /></span>."
   ]
  },
  {
   "cell_type": "markdown",
   "metadata": {},
   "source": [
    "## 2.2. The Second Bivariate Regression\n",
    "\n",
    "In this section we are going to repeat all the steps from the previous one, but now we are going to try to predict <span style='background:yellow'> < your y-variable name > </span>. based on <span style='background:yellow'> <your other x-variable name\\>  </span>\n",
    "\n",
    "Below a visualisation of these two:"
   ]
  },
  {
   "cell_type": "code",
   "execution_count": null,
   "metadata": {},
   "outputs": [],
   "source": [
    "#enter code to show scatterplot\n"
   ]
  },
  {
   "cell_type": "markdown",
   "metadata": {},
   "source": [
    "As can be seen from the scatterplot there seems to be a <span style='background:yellow'>\\<describe if there is a clear or hardly any, or.... relationship between the two\\></span>\n",
    "\n",
    "Creating again the training/testing sets and the model itself:"
   ]
  },
  {
   "cell_type": "code",
   "execution_count": null,
   "metadata": {},
   "outputs": [],
   "source": [
    "#add code here to split the data and the model itself:\n"
   ]
  },
  {
   "cell_type": "markdown",
   "metadata": {},
   "source": [
    "Now lets see how this performs:"
   ]
  },
  {
   "cell_type": "code",
   "execution_count": null,
   "metadata": {},
   "outputs": [],
   "source": [
    "#add code to show both the scatterplot with the regression line, and the model summary results.\n"
   ]
  },
  {
   "cell_type": "markdown",
   "metadata": {},
   "source": [
    "<span style='background:yellow'>\\<describe the outcome as before, and now also compare the results with the results of section 2.1.></span>"
   ]
  },
  {
   "cell_type": "markdown",
   "metadata": {},
   "source": [
    "# 3. Multivariate Regression Analysis"
   ]
  },
  {
   "cell_type": "markdown",
   "metadata": {},
   "source": [
    "In the previous chapter two separate bivariate regression analyses were performed to predict <span style='background:yellow'>\\< your y variable name></span> based on <span style='background:yellow'>\\<your first x-variable name></span> and <span style='background:yellow'>\\<your second x-variable name></span> separately. In this chapter we are going to look if we can make an even better prediction if we try to predict <span style='background:yellow'>\\<your y variable name></span> based on BOTH of these together."
   ]
  },
  {
   "cell_type": "markdown",
   "metadata": {},
   "source": [
    "We begin with combining the two x's into one X:"
   ]
  },
  {
   "cell_type": "code",
   "execution_count": null,
   "metadata": {},
   "outputs": [],
   "source": [
    "#add code here to add the two x's into one\n"
   ]
  },
  {
   "cell_type": "markdown",
   "metadata": {},
   "source": [
    "To actually perform the regression now, we can use the exact same method as before with the bivariate one:"
   ]
  },
  {
   "cell_type": "code",
   "execution_count": null,
   "metadata": {},
   "outputs": [],
   "source": [
    "#code to split the data, and create & fit the model:\n"
   ]
  },
  {
   "cell_type": "markdown",
   "metadata": {},
   "source": [
    "A visualisation becomes now more difficult, since it would have to be in 3D. (0.5 bonus if you manage to do this). However, the model summary still works:"
   ]
  },
  {
   "cell_type": "code",
   "execution_count": null,
   "metadata": {},
   "outputs": [],
   "source": [
    "#code to show model summary and how well the model performmed\n"
   ]
  },
  {
   "cell_type": "markdown",
   "metadata": {},
   "source": [
    "Instead of looking at the R-square, we should be looking at the adjusted R-square. <span style='background:yellow'>< explain why></span>."
   ]
  },
  {
   "cell_type": "markdown",
   "metadata": {},
   "source": [
    "We also see more rows now in the 'coef' column. <span style='background:yellow'>\\<explain why this is></span>."
   ]
  },
  {
   "cell_type": "markdown",
   "metadata": {},
   "source": [
    "<span style='background:yellow'>\\<explain how this model performs compared to the other two from chapter 2/></span>"
   ]
  },
  {
   "cell_type": "markdown",
   "metadata": {},
   "source": [
    "A last thing to do would be to check the VIF's:"
   ]
  },
  {
   "cell_type": "code",
   "execution_count": null,
   "metadata": {},
   "outputs": [],
   "source": [
    "#add code here to see the VIF's\n"
   ]
  },
  {
   "cell_type": "markdown",
   "metadata": {},
   "source": [
    "<span style='background:yellow'>\\<explain what to look for in the results></span>"
   ]
  },
  {
   "cell_type": "markdown",
   "metadata": {},
   "source": [
    "<font size=\"5\"><center>-----Chapters 1 to 3 are required to be fully completed to get a 60, the next few chapters will give a +10 for each chapter.<br> \n",
    "    However the template is not as extensive as the previous chapters. <br>\n",
    "    You can select any chapter below the order is not fixed (you can leave the others empty)<br>\n",
    "    You don't have to use the same dataset for the chapters below. If it helps in clarification you can use another dataset, but then make sure to include it as you submit.\n",
    "    ----</center></font>"
   ]
  },
  {
   "cell_type": "markdown",
   "metadata": {},
   "source": [
    "# 4. Selecting Input Variables"
   ]
  },
  {
   "cell_type": "markdown",
   "metadata": {},
   "source": [
    "In chapter 3 we improved on the model to predict <span style='background:yellow'>\\<your y-variable name></span> by using two input variables. We can actually add as many input variables as we like. Lets explore this by simply first adding ALL other variables as X."
   ]
  },
  {
   "cell_type": "code",
   "execution_count": null,
   "metadata": {},
   "outputs": [],
   "source": [
    "#add code to create an X variable using all variables, except of course your y variable:\n"
   ]
  },
  {
   "cell_type": "markdown",
   "metadata": {},
   "source": [
    "We could first have a quick look at the results of this model:"
   ]
  },
  {
   "cell_type": "code",
   "execution_count": null,
   "metadata": {},
   "outputs": [],
   "source": [
    "#add code here to model and fit the new X with the y, and show the model summary and how well the model performmed:\n"
   ]
  },
  {
   "cell_type": "markdown",
   "metadata": {},
   "source": [
    "However we have to be careful with those VIF's. So lets see:"
   ]
  },
  {
   "cell_type": "code",
   "execution_count": null,
   "metadata": {},
   "outputs": [],
   "source": [
    "#add code here to show the VIF's."
   ]
  },
  {
   "cell_type": "markdown",
   "metadata": {},
   "source": [
    "We need to remove the ones with a VIF higher than 10, but each time we remove one, the VIF's change. Lets create a small Python function that removes the highest VIF each time, until none of them are anymore above 10."
   ]
  },
  {
   "cell_type": "code",
   "execution_count": null,
   "metadata": {},
   "outputs": [],
   "source": [
    "#add your function code here.\n"
   ]
  },
  {
   "cell_type": "markdown",
   "metadata": {},
   "source": [
    "Lets run the function, and then use the result to create a new model:"
   ]
  },
  {
   "cell_type": "code",
   "execution_count": null,
   "metadata": {},
   "outputs": [],
   "source": [
    "#add code here that runs the just made function, and uses the result for the new model:\n"
   ]
  },
  {
   "cell_type": "markdown",
   "metadata": {},
   "source": [
    "We might also keep an eye out on that adjusted R-square. Iterate over all possible combinations of input variables we have remaining, and see which combination yields the highest adjusted R-square."
   ]
  },
  {
   "cell_type": "code",
   "execution_count": null,
   "metadata": {},
   "outputs": [],
   "source": [
    "#add your code here.\n"
   ]
  },
  {
   "cell_type": "markdown",
   "metadata": {},
   "source": [
    "Finally lets see how this new model performs:"
   ]
  },
  {
   "cell_type": "code",
   "execution_count": null,
   "metadata": {},
   "outputs": [],
   "source": [
    "#add code here to model and fit the new X with the y, and show the model summary and how well the model performmed:\n"
   ]
  },
  {
   "cell_type": "markdown",
   "metadata": {},
   "source": [
    "<span style='background:yellow'>\\<interpret the result, how well is the model now compared to our previous models?></span>"
   ]
  },
  {
   "cell_type": "markdown",
   "metadata": {},
   "source": [
    "# 5. Another splitting method"
   ]
  },
  {
   "cell_type": "markdown",
   "metadata": {},
   "source": [
    "To obtain the the test and training data we used the so-called hold-out method. However other methods also exist for this. In this chapter an explanation **and practical example** is given for the \\<your splitting method>."
   ]
  },
  {
   "cell_type": "markdown",
   "metadata": {},
   "source": [
    "<span style='background:yellow'>\\<explain THOROUGHLY the method. How does it work in principal, how is it different from the hold-out method?. You will need more cells than the ones below!></span>"
   ]
  },
  {
   "cell_type": "code",
   "execution_count": null,
   "metadata": {},
   "outputs": [],
   "source": [
    "#code using your method\n"
   ]
  },
  {
   "cell_type": "markdown",
   "metadata": {},
   "source": [
    "<span style='background:yellow'>\\<explain the result></span>"
   ]
  },
  {
   "cell_type": "markdown",
   "metadata": {},
   "source": [
    "# 6. A New Technique"
   ]
  },
  {
   "cell_type": "markdown",
   "metadata": {},
   "source": [
    "So far, we only used the 'basic' simple linear regression (the bivariate) and multiple linear regression. However, there are many variations, as also seen on the slides. In this chapter the \\<your regression method> is explained."
   ]
  },
  {
   "cell_type": "markdown",
   "metadata": {},
   "source": [
    "<span style='background:yellow'>\\<explain THOROUGHLY the method. How does it work, what makes it different from the regular linear regression, in which situations might this be optimal. You will need more cells than the ones below></span>"
   ]
  },
  {
   "cell_type": "code",
   "execution_count": null,
   "metadata": {},
   "outputs": [],
   "source": [
    "#code using your method\n"
   ]
  },
  {
   "cell_type": "markdown",
   "metadata": {},
   "source": [
    "# 7. Surprise"
   ]
  },
  {
   "cell_type": "markdown",
   "metadata": {},
   "source": [
    "There is a lot written about regression analysis, and although a lot was discussed during the lecture, that was just a tip of an iceberg. One thing for example that was not mentioned is \\<start explaining from here....>"
   ]
  },
  {
   "cell_type": "markdown",
   "metadata": {},
   "source": [
    "----this chapter is for the 10. It should be something substantial, related to regression and not already discussed----\n",
    "\n",
    "---examples could be an explanation on the Gradient Descent approach to linear programming, or using Matrix Algebra to obtain the linear regression equation----"
   ]
  },
  {
   "cell_type": "code",
   "execution_count": null,
   "metadata": {},
   "outputs": [],
   "source": []
  }
 ],
 "metadata": {
  "kernelspec": {
   "display_name": "Python 3",
   "language": "python",
   "name": "python3"
  },
  "language_info": {
   "codemirror_mode": {
    "name": "ipython",
    "version": 3
   },
   "file_extension": ".py",
   "mimetype": "text/x-python",
   "name": "python",
   "nbconvert_exporter": "python",
   "pygments_lexer": "ipython3",
   "version": "3.11.2"
  },
  "vscode": {
   "interpreter": {
    "hash": "5be11d9cbfad033087443e0db34e4c10b0cc227c13eaeebf80611335cc2580fb"
   }
  }
 },
 "nbformat": 4,
 "nbformat_minor": 4
}
